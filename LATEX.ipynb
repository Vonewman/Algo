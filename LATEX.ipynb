{
  "nbformat": 4,
  "nbformat_minor": 0,
  "metadata": {
    "colab": {
      "name": "LATEX.ipynb",
      "version": "0.3.2",
      "provenance": [],
      "collapsed_sections": [],
      "include_colab_link": true
    },
    "kernelspec": {
      "name": "python3",
      "display_name": "Python 3"
    }
  },
  "cells": [
    {
      "cell_type": "markdown",
      "metadata": {
        "id": "view-in-github",
        "colab_type": "text"
      },
      "source": [
        "<a href=\"https://colab.research.google.com/github/Vonewman/Algo/blob/master/LATEX.ipynb\" target=\"_parent\"><img src=\"https://colab.research.google.com/assets/colab-badge.svg\" alt=\"Open In Colab\"/></a>"
      ]
    },
    {
      "cell_type": "markdown",
      "metadata": {
        "id": "gz4Hz3GjCeMU",
        "colab_type": "text"
      },
      "source": [
        "# 2. Écrire des mathématiques : L A TEX en cinq minutes"
      ]
    },
    {
      "cell_type": "markdown",
      "metadata": {
        "id": "D2QcKrRzEOq5",
        "colab_type": "text"
      },
      "source": [
        "## 2.1. Les bases"
      ]
    },
    {
      "cell_type": "markdown",
      "metadata": {
        "id": "y_8v3Dx4CV_Z",
        "colab_type": "text"
      },
      "source": [
        "$\\pi^2$\n"
      ]
    },
    {
      "cell_type": "markdown",
      "metadata": {
        "id": "3nkIqNELMHAq",
        "colab_type": "text"
      },
      "source": [
        "$$\\lim u_n = +\\infty$$"
      ]
    },
    {
      "cell_type": "markdown",
      "metadata": {
        "id": "BHVQSuppQsBW",
        "colab_type": "text"
      },
      "source": [
        "##2.2. Premières commandes"
      ]
    },
    {
      "cell_type": "markdown",
      "metadata": {
        "id": "KCUErujFQtBO",
        "colab_type": "text"
      },
      "source": [
        "$\\sqrt{a}$\n",
        "\n",
        "$\\sqrt{1+\\sqrt{2}}$\n",
        "\n",
        "$\\sqrt [3] {x}$\n",
        "\n"
      ]
    },
    {
      "cell_type": "markdown",
      "metadata": {
        "id": "AIkdB9bCQtIL",
        "colab_type": "text"
      },
      "source": [
        ""
      ]
    },
    {
      "cell_type": "markdown",
      "metadata": {
        "id": "i05E2IMKQtS2",
        "colab_type": "text"
      },
      "source": [
        ""
      ]
    }
  ]
}