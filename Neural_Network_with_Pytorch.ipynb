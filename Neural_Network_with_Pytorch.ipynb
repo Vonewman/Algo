{
  "nbformat": 4,
  "nbformat_minor": 0,
  "metadata": {
    "colab": {
      "name": "Neural Network with Pytorch.ipynb",
      "provenance": [],
      "collapsed_sections": [],
      "authorship_tag": "ABX9TyPps5WifqADWxylQgfyxTdN",
      "include_colab_link": true
    },
    "kernelspec": {
      "name": "python3",
      "display_name": "Python 3"
    }
  },
  "cells": [
    {
      "cell_type": "markdown",
      "metadata": {
        "id": "view-in-github",
        "colab_type": "text"
      },
      "source": [
        "<a href=\"https://colab.research.google.com/github/Vonewman/Algo/blob/master/Neural_Network_with_Pytorch.ipynb\" target=\"_parent\"><img src=\"https://colab.research.google.com/assets/colab-badge.svg\" alt=\"Open In Colab\"/></a>"
      ]
    },
    {
      "cell_type": "markdown",
      "metadata": {
        "id": "w808Ixf5TmcN",
        "colab_type": "text"
      },
      "source": [
        "## Neural network with pytorch\n",
        "\n",
        "Pytorch gave a nice module **nn** that providesa nice way to efficiently build large neural networks."
      ]
    },
    {
      "cell_type": "code",
      "metadata": {
        "id": "xCn3nn7SSq94",
        "colab_type": "code",
        "colab": {}
      },
      "source": [
        "# Import necessary packages\n",
        "%matplotlib inline\n",
        "%config InlineBackend.figure_format = 'retina'\n",
        "\n",
        "import numpy as np\n",
        "import torch\n",
        "\n",
        "import helper\n",
        "\n",
        "import matplotlib.pyplot as plt"
      ],
      "execution_count": 0,
      "outputs": []
    },
    {
      "cell_type": "markdown",
      "metadata": {
        "id": "SnbcMZsCarpb",
        "colab_type": "text"
      },
      "source": [
        "## Download the MNIST datasets"
      ]
    },
    {
      "cell_type": "code",
      "metadata": {
        "id": "Um0oro4tVX5S",
        "colab_type": "code",
        "colab": {}
      },
      "source": [
        "from torchvision import datasets, transforms\n",
        "\n",
        "# Define a transform to normalize the data\n",
        "transform = transforms.Compose([transforms.ToTensor(),\n",
        "                                transforms.Normalize((0.5,), (0.5,)),\n",
        "                                ])\n",
        "\n",
        "# Download and load the training data\n",
        "trainset = datasets.MNIST('MNIST_data/', download=True, train=True, transform=transform)\n",
        "trainloader = torch.utils.data.DataLoader(trainset, batch_size=64, shuffle=True)"
      ],
      "execution_count": 0,
      "outputs": []
    },
    {
      "cell_type": "code",
      "metadata": {
        "id": "CWqiLse2iJmX",
        "colab_type": "code",
        "outputId": "fd521aec-1caf-47a5-988e-bb0a4d0ced00",
        "colab": {
          "base_uri": "https://localhost:8080/",
          "height": 67
        }
      },
      "source": [
        "dataiter = iter(trainloader)\n",
        "images, labels = dataiter.next()\n",
        "print(type(images))\n",
        "print(images.shape)\n",
        "print(labels.shape)"
      ],
      "execution_count": 25,
      "outputs": [
        {
          "output_type": "stream",
          "text": [
            "<class 'torch.Tensor'>\n",
            "torch.Size([64, 1, 28, 28])\n",
            "torch.Size([64])\n"
          ],
          "name": "stdout"
        }
      ]
    },
    {
      "cell_type": "code",
      "metadata": {
        "id": "CpDS7RKJ23Na",
        "colab_type": "code",
        "outputId": "4ee99d1a-b86c-4c19-ca54-98be5a6e3e8e",
        "colab": {
          "base_uri": "https://localhost:8080/",
          "height": 282
        }
      },
      "source": [
        "plt.imshow(images[2].numpy().squeeze(), cmap='Greys_r')"
      ],
      "execution_count": 26,
      "outputs": [
        {
          "output_type": "execute_result",
          "data": {
            "text/plain": [
              "<matplotlib.image.AxesImage at 0x7fc1731582b0>"
            ]
          },
          "metadata": {
            "tags": []
          },
          "execution_count": 26
        },
        {
          "output_type": "display_data",
          "data": {
            "image/png": "[encoded data removed]",
            "text/plain": [
              "<Figure size 432x288 with 1 Axes>"
            ]
          },
          "metadata": {
            "tags": [],
            "image/png": {
              "width": 251,
              "height": 248
            },
            "needs_background": "light"
          }
        }
      ]
    },
    {
      "cell_type": "code",
      "metadata": {
        "id": "udLecUh9861b",
        "colab_type": "code",
        "colab": {}
      },
      "source": [
        "## Solution\n",
        "def activation(x):\n",
        "  return 1/(1 + torch.exp(-x))\n",
        "\n",
        "# Flatten the input images \n",
        "inputs = images.view(images.shape[0], -1)\n",
        "\n",
        "# create parameters \n",
        "w1 = torch.randn(784, 256)\n",
        "b1 = torch.randn(256)\n",
        "\n",
        "w2 = torch.randn(256, 10)\n",
        "b2 = torch.randn(10)\n",
        "\n",
        "h = activation(torch.mm(inputs, w1) + b1)\n",
        "\n",
        "out = torch.mm(h, w2) + b2"
      ],
      "execution_count": 0,
      "outputs": []
    },
    {
      "cell_type": "code",
      "metadata": {
        "id": "hiu9kBYHKIo1",
        "colab_type": "code",
        "outputId": "6a11ea2a-40ba-41d1-9c1a-f28762d0de90",
        "colab": {
          "base_uri": "https://localhost:8080/",
          "height": 34
        }
      },
      "source": [
        "# shape of the output\n",
        "print(out.shape)"
      ],
      "execution_count": 28,
      "outputs": [
        {
          "output_type": "stream",
          "text": [
            "torch.Size([64, 10])\n"
          ],
          "name": "stdout"
        }
      ]
    },
    {
      "cell_type": "code",
      "metadata": {
        "id": "UAGxfjMPnnKD",
        "colab_type": "code",
        "outputId": "f4c332ca-483f-4e65-f0cc-1c625f6738a1",
        "colab": {
          "base_uri": "https://localhost:8080/",
          "height": 1000
        }
      },
      "source": [
        "# output of this network\n",
        "print(out)"
      ],
      "execution_count": 29,
      "outputs": [
        {
          "output_type": "stream",
          "text": [
            "tensor([[ 20.9417,  11.9547,   1.5298,   0.7255,  -4.9546,  -5.3452,  -6.8398,\n",
            "          12.0256,  15.0232,  -1.8380],\n",
            "        [ 12.8230,  12.9614,   8.3032,  -3.8748,  -8.2821,  -0.9074,   3.3647,\n",
            "           1.2244,  13.9988,   5.8873],\n",
            "        [ 26.7173,  15.0368,   6.4418,  13.0885,  -4.5063,   3.5661,  -5.2339,\n",
            "          16.2715,  13.6122,   2.9597],\n",
            "        [  3.3661,   7.9795,   4.4847,   7.4412,  -5.8109,  10.9218, -13.7922,\n",
            "           8.8491,  10.5595,   0.6791],\n",
            "        [ 20.2037,   7.1463,   9.7384,  10.0504,  -2.2954,   0.5824,  -7.2638,\n",
            "           8.2231,   9.8214,  -6.3777],\n",
            "        [ 14.2601,   7.6277,  -1.2857,  10.4337, -13.5993,  11.4384,  -1.6426,\n",
            "          13.3016,   2.9654,  -6.4255],\n",
            "        [  9.5733,   2.7136,  11.8780,   7.8161,  -2.2446,   7.8337,   2.9555,\n",
            "           1.4494,   7.8827,   9.3778],\n",
            "        [  8.0974,  19.4608,  12.8232,   7.6610, -11.5898,   4.0942,  -7.4265,\n",
            "          12.0808,   0.1833,   3.3032],\n",
            "        [ 13.8293,  13.8868,  -0.2161,   7.8385,   0.2879,  -4.0289,  -9.9994,\n",
            "           9.7815,   7.4985,   6.0425],\n",
            "        [ 11.3554,   2.5849,  -9.3186,  23.3232,  -2.8444,   5.0907,  -1.1178,\n",
            "           4.4572,  14.2195,   5.2306],\n",
            "        [ 26.3073,  15.8513,   3.9331,  20.0075,  -8.0452,   7.8354, -21.2472,\n",
            "          14.0193,  17.7356,  -3.3126],\n",
            "        [ 24.2563,  13.5809,   1.9739,  11.5711,  -4.3147,   5.3327, -12.8240,\n",
            "           9.2919,  17.8261,   1.4298],\n",
            "        [ 13.0876,   7.4606,  -0.4630,   9.7900,  -1.8153,   5.5678,   6.6126,\n",
            "           6.2590,  17.2019,   1.0375],\n",
            "        [ 21.1733,   3.4702,   1.1126,  10.5127,  -1.7147,   4.7476,  -2.5670,\n",
            "           5.9733,  11.2906,   4.9607],\n",
            "        [ 11.2658,  17.4222,   9.6666,  17.3507,  -9.8285,   4.5622,  -7.3767,\n",
            "           9.5257,   6.0757,   2.7282],\n",
            "        [ 16.1286,  16.6014,  -1.2895,   5.6920,  -5.0412,  -4.3685,  -6.7455,\n",
            "           7.1415,  15.6245,   5.2828],\n",
            "        [ 22.5853,   7.4059,   3.8672,  17.4026,   0.1213,   9.6638,  -5.3251,\n",
            "           3.7352,  21.1190,  -1.9260],\n",
            "        [ 26.8113,  10.7211,  15.2901,   8.0244,  -6.9973,   0.3584,  -3.6730,\n",
            "           6.7214,  10.3486,  -6.6956],\n",
            "        [ 12.1804,   8.3317,   9.1689,   8.1081,  -3.5536,  -1.3070,  -9.5298,\n",
            "          11.3923,   9.9977,   1.8085],\n",
            "        [ 12.3381,  12.8933,  11.3892,   6.9964,  -7.3104,   0.1247, -11.8805,\n",
            "          13.2417,   0.4687,   1.9775],\n",
            "        [ 22.7688,   8.5292,  10.8570,   7.8307, -10.6314,   6.0711,   4.3597,\n",
            "          14.1486,  11.1036,  10.3533],\n",
            "        [ 23.4348,  14.5668,   3.3462,   5.6288, -12.8676,  -1.0165,  -8.1844,\n",
            "           2.8703,   8.7514,  -0.4047],\n",
            "        [ 15.2750,  18.8244,   6.2507,   7.0331,  -4.4630,  -4.6709,  -7.4712,\n",
            "          12.0353,   5.3560,  -0.0479],\n",
            "        [ 18.2668,   2.0471,  10.4467,  10.5275,  -7.2107,   7.1055,  -4.1979,\n",
            "           7.9428,   9.9041,   1.9992],\n",
            "        [ 13.1746,  13.6755,   7.5111,  10.4614, -12.3682,   3.6296, -12.4448,\n",
            "           1.0371,  10.7381,   2.1938],\n",
            "        [ 18.0647,   5.2122,  15.7839,  -0.0395,  -4.4036,   9.8252, -13.0720,\n",
            "          13.5924,   8.4953,  -6.0321],\n",
            "        [ 20.0343,  18.4694,   5.9152,  23.9174, -10.7892,   7.0395, -12.0024,\n",
            "          10.4744,  12.2710,  -5.0504],\n",
            "        [ 13.4731,  11.9540,   1.3939,   4.6366,  -4.3047,  -4.1349, -12.2795,\n",
            "          10.7575,  10.6430,   7.1535],\n",
            "        [  8.3686,  17.2516,  13.4995,   7.5023,  -8.5075,  11.2860, -11.8791,\n",
            "          16.8028,  -4.3679,   6.3871],\n",
            "        [ 10.4324,  14.2733,   5.6741,  13.4413, -10.3521,   5.3144, -10.9055,\n",
            "          21.2818,   2.0641,  -6.3067],\n",
            "        [ 16.0250,  16.3627,   7.4249,   2.8365,  -7.3780,  -0.0337, -13.6763,\n",
            "           0.8439,   5.7955,   2.4504],\n",
            "        [  9.9877,   7.2592,   7.6148,   9.8002,  -2.8810,   7.1328,  -0.3540,\n",
            "           9.0285,  -2.1871,  -0.7321],\n",
            "        [ 12.8018,   6.5777,  11.9905,  16.2380,  -6.2744,  -2.2637, -13.4256,\n",
            "           9.7835,   3.8065,  -9.2676],\n",
            "        [  6.5000,   7.8933,  12.1346,  10.2365, -16.7220,   5.5113, -11.4703,\n",
            "           4.4017,   6.6361,   2.1970],\n",
            "        [ 32.8301,   5.5338,   3.3112,  -4.9350,  -7.4841,  -2.6443,  -6.6705,\n",
            "          11.1239,  24.4361,  -0.4361],\n",
            "        [ 24.0000,   5.8752,  -1.6608,  12.5797, -13.7661,   0.0354,  -8.6065,\n",
            "          13.0452,   8.7804,  16.0240],\n",
            "        [ 16.5485,  17.8351,   1.8115,  21.2505, -11.8866,  -2.5939,  -6.1145,\n",
            "          11.7086,   9.3243,  -1.6841],\n",
            "        [ 12.7079,  15.5396,  11.8011,  21.3363,  -7.7203,   7.6326,  -2.1574,\n",
            "          13.6537,  -3.9037,  -0.2648],\n",
            "        [ 14.6938,   9.2274,   1.5641,  16.5632,  -5.9757,   1.5922,  -3.3245,\n",
            "          13.5675,  10.3625,   5.7997],\n",
            "        [ 24.1213,   5.3012,   1.7322,  11.6983,  -2.2303,   0.0442, -10.2276,\n",
            "          11.1368,  10.3264,  -4.5779],\n",
            "        [ 18.6565,   9.8285,   0.8544,   5.3770,  -1.7955,  -1.1675,  -7.2450,\n",
            "           8.8220,  11.0540,   4.2273],\n",
            "        [  9.4228,  15.1734,   6.8837,  27.8025,  -4.4139,  10.4805,   0.7842,\n",
            "           3.9196,   4.8640,   3.3101],\n",
            "        [ 14.3054,  18.3587,   5.1454,   5.7772,  -0.9613, -13.2321,  -0.9988,\n",
            "          13.5181,  11.2059,  -0.5547],\n",
            "        [ 21.0362,  10.9143,  12.4844,  11.3774,  -4.8666,   9.3537,  -4.0251,\n",
            "           4.8337,  20.3766,   0.2550],\n",
            "        [ 19.3438,  13.4394,  -1.7535,  11.2569, -11.2346,  -2.0392,   0.5153,\n",
            "          11.2954,   9.0073,  -2.0012],\n",
            "        [ 10.6830,   2.7548,  16.5822,  19.8176,  -7.7537,   4.2453,  -4.6198,\n",
            "           8.0315,  -6.2206,  -2.4047],\n",
            "        [  7.7939,  11.7200,   0.8883,  12.4625,  -7.4942,  -1.3846,   9.6301,\n",
            "          18.9019,  -1.7617,  -8.3290],\n",
            "        [ 14.6620,  12.4648,  17.2846,   5.4660,  -7.9932,   4.3359,  -8.0439,\n",
            "           9.3189,  12.2008,   1.6569],\n",
            "        [ 13.4955,  15.4308,   4.3081,  13.5262,  -0.6601,   0.8274,  -8.3570,\n",
            "          14.7946,   7.0316,  -4.8726],\n",
            "        [ 17.9113,  -6.3021,  -0.1392,  22.9008,  -7.2350,   9.6449,  -5.2306,\n",
            "          11.9796,  17.7057,   0.6725],\n",
            "        [ 19.5193,   9.6518,   6.8080,   3.1774,  -3.6610,   3.8458,  -9.2853,\n",
            "           6.7488,  11.9023,  -9.1519],\n",
            "        [ 12.2032,  11.0362,   8.4235,   9.3726, -10.9870,  -1.8514,  -1.1889,\n",
            "           3.6740,   6.9681,   9.9997],\n",
            "        [ 31.4195,   6.6532,  15.1830,  -0.1040, -17.3910,   2.9339,  -9.6196,\n",
            "           2.5519,  10.5439,   8.3246],\n",
            "        [ 10.6760,  13.0449,  15.7248,   6.8201,  -1.2142,   2.2931, -14.5638,\n",
            "          13.1608,  -1.1223,   4.0729],\n",
            "        [  7.8422,  15.2381,   6.2555,  15.8231, -11.0728,   6.0261,  -2.3127,\n",
            "           3.3724,   6.5607,   8.7782],\n",
            "        [ 29.6382,  15.7247,   9.5750,  13.5072,  -6.7056,  -1.3395, -15.9322,\n",
            "          15.2419,  15.8882,   5.7745],\n",
            "        [ 21.4037,  12.1165,   6.8327,   2.8632,  -8.2975,   0.2811,  -1.8565,\n",
            "           5.9501,   9.0914,   2.5862],\n",
            "        [ 13.9645,  17.1012,  10.1623,   6.4516,   1.9762,   6.8373,   1.5845,\n",
            "           8.8891,  11.9585,   3.7164],\n",
            "        [ 14.7439,   5.5297,  -1.0408,  12.1451, -11.0671,   8.0739, -10.1658,\n",
            "          13.5073,  12.5022,   9.4151],\n",
            "        [  8.9575,  17.2861,  15.8082,   4.7316,  -4.7178,   6.3710,   1.7826,\n",
            "          12.9862,   7.0406,  14.0480],\n",
            "        [ 12.4059,  15.4664,  10.6731,  12.5307,  -7.5611,  12.2119,  -0.5763,\n",
            "           1.6966,  12.1158,   5.6683],\n",
            "        [ 18.1193,   6.8962,   3.5597,  20.7030,  -5.9933,  -0.6348,  -7.7805,\n",
            "          10.9415,  -0.5837, -13.1106],\n",
            "        [ 14.0317,  13.7846,   4.4390,   2.5016,  -6.4301,   3.5292, -16.3897,\n",
            "           4.9824,  13.3923,  10.4362],\n",
            "        [ 13.7566,  14.4704,  10.5314,   7.1656, -11.2783,   4.8340,   0.4010,\n",
            "          14.4370,  14.8596,   1.3487]])\n"
          ],
          "name": "stdout"
        }
      ]
    },
    {
      "cell_type": "code",
      "metadata": {
        "id": "tULW8ew1oIux",
        "colab_type": "code",
        "outputId": "391ac3a9-fcb0-4c29-f321-51be262eae12",
        "colab": {
          "base_uri": "https://localhost:8080/",
          "height": 168
        }
      },
      "source": [
        "## softmax\n",
        "def softmax(x):\n",
        "  return torch.exp(x)/torch.sum(torch.exp(x), dim=1).view(-1,1)\n",
        "\n",
        "probabilities = softmax(out)\n",
        "\n",
        "print(probabilities.shape)\n",
        "\n",
        "print(probabilities.sum(dim=1))"
      ],
      "execution_count": 30,
      "outputs": [
        {
          "output_type": "stream",
          "text": [
            "torch.Size([64, 10])\n",
            "tensor([1.0000, 1.0000, 1.0000, 1.0000, 1.0000, 1.0000, 1.0000, 1.0000, 1.0000,\n",
            "        1.0000, 1.0000, 1.0000, 1.0000, 1.0000, 1.0000, 1.0000, 1.0000, 1.0000,\n",
            "        1.0000, 1.0000, 1.0000, 1.0000, 1.0000, 1.0000, 1.0000, 1.0000, 1.0000,\n",
            "        1.0000, 1.0000, 1.0000, 1.0000, 1.0000, 1.0000, 1.0000, 1.0000, 1.0000,\n",
            "        1.0000, 1.0000, 1.0000, 1.0000, 1.0000, 1.0000, 1.0000, 1.0000, 1.0000,\n",
            "        1.0000, 1.0000, 1.0000, 1.0000, 1.0000, 1.0000, 1.0000, 1.0000, 1.0000,\n",
            "        1.0000, 1.0000, 1.0000, 1.0000, 1.0000, 1.0000, 1.0000, 1.0000, 1.0000,\n",
            "        1.0000])\n"
          ],
          "name": "stdout"
        }
      ]
    },
    {
      "cell_type": "markdown",
      "metadata": {
        "id": "H82O8bLL5EP0",
        "colab_type": "text"
      },
      "source": [
        "## Building networks with Pytorch"
      ]
    },
    {
      "cell_type": "code",
      "metadata": {
        "id": "gVwHXWx-2o-f",
        "colab_type": "code",
        "colab": {}
      },
      "source": [
        "from torch import nn"
      ],
      "execution_count": 0,
      "outputs": []
    },
    {
      "cell_type": "code",
      "metadata": {
        "id": "JnUN1Tjx5LvL",
        "colab_type": "code",
        "colab": {}
      },
      "source": [
        "class Network(nn.Module):\n",
        "  def __init__(self):\n",
        "    super().__init__()\n",
        "\n",
        "    # Input to hidden layer Linear transformation\n",
        "    self.hidden = nn.Linear(784, 256)\n",
        "\n",
        "    # Output layer, 10 units - one from each digit\n",
        "    self.output = nn.Linear(256, 10)\n",
        "\n",
        "    self.sigmoid = nn.Sigmoid()\n",
        "    self.softmax = nn.Softmax()\n",
        "\n",
        "  def forward(self, x):\n",
        "    # Pass the input Tensor through each of the operation\n",
        "    x = self.hidden(x)\n",
        "    x = self.sigmoid(x)\n",
        "    x = self.output(x)\n",
        "    x = self.softmax(x)\n",
        "\n",
        "    return x"
      ],
      "execution_count": 0,
      "outputs": []
    },
    {
      "cell_type": "code",
      "metadata": {
        "id": "kStownfQTekG",
        "colab_type": "code",
        "colab": {
          "base_uri": "https://localhost:8080/",
          "height": 118
        },
        "outputId": "eeba9a5f-58d9-4500-a962-093504e42be1"
      },
      "source": [
        "model = Network()\n",
        "model"
      ],
      "execution_count": 34,
      "outputs": [
        {
          "output_type": "execute_result",
          "data": {
            "text/plain": [
              "Network(\n",
              "  (hidden): Linear(in_features=784, out_features=256, bias=True)\n",
              "  (output): Linear(in_features=256, out_features=10, bias=True)\n",
              "  (sigmoid): Sigmoid()\n",
              "  (softmax): Softmax(dim=None)\n",
              ")"
            ]
          },
          "metadata": {
            "tags": []
          },
          "execution_count": 34
        }
      ]
    },
    {
      "cell_type": "code",
      "metadata": {
        "id": "LFd-z_JMbR-c",
        "colab_type": "code",
        "colab": {}
      },
      "source": [
        "import torch.nn.functional as F\n",
        "\n",
        "class Network(nn.Module):\n",
        "  def __init__(self):\n",
        "    super().__init__()\n",
        "\n",
        "    # Input to hidden layer Linear transformation\n",
        "    self.hidden = nn.Linear(784, 256)\n",
        "\n",
        "    # Output layer, 10 units - one from each digit\n",
        "    self.output = nn.Linear(256, 10)\n",
        "\n",
        "  def forward(self, x):\n",
        "    x = F.sigmoid(self.hidden(x))\n",
        "    x = F.softmax(self.output(x), dim=1)\n",
        "\n",
        "    return x"
      ],
      "execution_count": 0,
      "outputs": []
    },
    {
      "cell_type": "code",
      "metadata": {
        "id": "AGQc8vr0b97e",
        "colab_type": "code",
        "colab": {}
      },
      "source": [
        ""
      ],
      "execution_count": 0,
      "outputs": []
    }
  ]
}