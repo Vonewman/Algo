{
  "nbformat": 4,
  "nbformat_minor": 0,
  "metadata": {
    "colab": {
      "name": "convolutional_neural_network.ipynb",
      "provenance": [],
      "authorship_tag": "ABX9TyP43OjaXDmWgBXyJO3YLuVw",
      "include_colab_link": true
    },
    "kernelspec": {
      "name": "python3",
      "display_name": "Python 3"
    }
  },
  "cells": [
    {
      "cell_type": "markdown",
      "metadata": {
        "id": "view-in-github",
        "colab_type": "text"
      },
      "source": [
        "<a href=\"https://colab.research.google.com/github/Vonewman/Algo/blob/master/convolutional_neural_network.ipynb\" target=\"_parent\"><img src=\"https://colab.research.google.com/assets/colab-badge.svg\" alt=\"Open In Colab\"/></a>"
      ]
    },
    {
      "cell_type": "code",
      "metadata": {
        "id": "ondPSUwxEorH",
        "colab_type": "code",
        "colab": {}
      },
      "source": [
        "from io import open\n",
        "\n",
        "# Common imports\n",
        "import numpy as np\n",
        "import os\n",
        "\n",
        "# to make this notebook's output stable across runs\n",
        "def reset_graph(seed=42):\n",
        "    tf.reset_default_graph()\n",
        "    tf.set_random_seed(seed)\n",
        "    np.random.seed(seed)\n",
        "\n",
        "# To plot pretty figures\n",
        "%matplotlib inline\n",
        "import matplotlib\n",
        "import matplotlib.pyplot as plt\n",
        "plt.rcParams['axes.labelsize'] = 14\n",
        "plt.rcParams['xtick.labelsize'] = 12\n",
        "plt.rcParams['ytick.labelsize'] = 12\n",
        "\n",
        "# Where to save the figures\n",
        "PROJECT_ROOT_DIR = \".\"\n",
        "CHAPTER_ID = \"cnn\"\n",
        "\n",
        "def save_fig(fig_id, tight_layout=True):\n",
        "    path = os.path.join(PROJECT_ROOT_DIR, \"images\", CHAPTER_ID, fig_id + \".png\")\n",
        "    print(\"Saving figure\", fig_id)\n",
        "    if tight_layout:\n",
        "        plt.tight_layout()\n",
        "    plt.savefig(path, format='png', dpi=300)"
      ],
      "execution_count": 0,
      "outputs": []
    },
    {
      "cell_type": "markdown",
      "metadata": {
        "id": "Qyp1c7wjLeCi",
        "colab_type": "text"
      },
      "source": [
        "A couple utility functions to plot grayscale and RGB images:"
      ]
    },
    {
      "cell_type": "code",
      "metadata": {
        "id": "aQwebgZRHK7b",
        "colab_type": "code",
        "colab": {}
      },
      "source": [
        "def plot_image(image):\n",
        "  plt.imshow(image, cmap=\"gray\", interpolation=\"nearest\")\n",
        "  plt.axis(\"off\")\n",
        "\n",
        "def plot_color_image(image):\n",
        "  plt.imshow(image.astype(np.uint8), interpolation=\"nearest\")\n",
        "  plt.axis(\"off\")"
      ],
      "execution_count": 0,
      "outputs": []
    },
    {
      "cell_type": "markdown",
      "metadata": {
        "id": "kWZom5HsR96H",
        "colab_type": "text"
      },
      "source": [
        "## Import tensorflow"
      ]
    },
    {
      "cell_type": "code",
      "metadata": {
        "id": "2SB1Hrh3SDb5",
        "colab_type": "code",
        "colab": {
          "base_uri": "https://localhost:8080/",
          "height": 34
        },
        "outputId": "d5e1f998-d606-4b7b-dd11-8edd5e65f480"
      },
      "source": [
        "import tensorflow as tf\n",
        "print(tf.__version__)"
      ],
      "execution_count": 8,
      "outputs": [
        {
          "output_type": "stream",
          "text": [
            "2.0.0\n"
          ],
          "name": "stdout"
        }
      ]
    },
    {
      "cell_type": "markdown",
      "metadata": {
        "id": "7VT4CA9-FbzV",
        "colab_type": "text"
      },
      "source": [
        "### Charger les images d'exemple"
      ]
    },
    {
      "cell_type": "code",
      "metadata": {
        "id": "KCizeAkJFW6t",
        "colab_type": "code",
        "colab": {}
      },
      "source": [
        "from sklearn.datasets import  load_sample_image\n",
        "china  = load_sample_image(\"china.jpg\")\n",
        "flower = load_sample_image(\"flower.jpg\")\n",
        "image = china[150:220, 130:250]\n",
        "height, width, channels = image.shape\n",
        "image_grayscale = image.mean(axis=2).astype(np.float32)\n",
        "images = image_grayscale.reshape(1, height, width, 1)"
      ],
      "execution_count": 0,
      "outputs": []
    },
    {
      "cell_type": "code",
      "metadata": {
        "id": "GINA41eX8urE",
        "colab_type": "code",
        "colab": {
          "base_uri": "https://localhost:8080/",
          "height": 479
        },
        "outputId": "79a7b921-1a7b-4bc5-caa4-98ad56bbd33a"
      },
      "source": [
        "fmap = np.zeros(shape=(7, 7, 1, 2), dtype=np.float32)\n",
        "fmap[:, 3, 0, 0] = 1\n",
        "fmap[3, :, 0, 1] = 1\n",
        "plot_image(fmap[:, :, 0, 0])\n",
        "plt.show()\n",
        "plot_image(fmap[:, :, 0, 1])\n",
        "plt.show()"
      ],
      "execution_count": 11,
      "outputs": [
        {
          "output_type": "display_data",
          "data": {
            "image/png": "[encoded data removed]",
            "text/plain": [
              "<Figure size 432x288 with 1 Axes>"
            ]
          },
          "metadata": {
            "tags": []
          }
        },
        {
          "output_type": "display_data",
          "data": {
            "image/png": "[encoded data removed]",
            "text/plain": [
              "<Figure size 432x288 with 1 Axes>"
            ]
          },
          "metadata": {
            "tags": []
          }
        }
      ]
    },
    {
      "cell_type": "code",
      "metadata": {
        "id": "vEjHQzqF86s_",
        "colab_type": "code",
        "colab": {}
      },
      "source": [
        ""
      ],
      "execution_count": 0,
      "outputs": []
    }
  ]
}