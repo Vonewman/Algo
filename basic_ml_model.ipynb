{
  "nbformat": 4,
  "nbformat_minor": 0,
  "metadata": {
    "colab": {
      "name": "basic_ml_model.ipynb",
      "provenance": [],
      "authorship_tag": "ABX9TyPbApX1kAtGFILVpuW3ARTM",
      "include_colab_link": true
    },
    "kernelspec": {
      "name": "python3",
      "display_name": "Python 3"
    }
  },
  "cells": [
    {
      "cell_type": "markdown",
      "metadata": {
        "id": "view-in-github",
        "colab_type": "text"
      },
      "source": [
        "<a href=\"https://colab.research.google.com/github/Vonewman/Algo/blob/master/basic_ml_model.ipynb\" target=\"_parent\"><img src=\"https://colab.research.google.com/assets/colab-badge.svg\" alt=\"Open In Colab\"/></a>"
      ]
    },
    {
      "cell_type": "markdown",
      "metadata": {
        "id": "LJSgqXicGP8r"
      },
      "source": [
        "## 1. Imports"
      ]
    },
    {
      "cell_type": "code",
      "metadata": {
        "id": "K1myVVUXEQkl"
      },
      "source": [
        "import tensorflow as tf\n",
        "import numpy as np\n",
        "from tensorflow import keras"
      ],
      "execution_count": 2,
      "outputs": []
    },
    {
      "cell_type": "markdown",
      "metadata": {
        "id": "XAlgQdNgGUbF"
      },
      "source": [
        "## Define and compile the neural network"
      ]
    },
    {
      "cell_type": "code",
      "metadata": {
        "id": "2P0gk-GYEnQM"
      },
      "source": [
        "model = tf.keras.Sequential([keras.layers.Dense(units=1, input_shape=[1])])"
      ],
      "execution_count": 3,
      "outputs": []
    },
    {
      "cell_type": "code",
      "metadata": {
        "id": "gQxqVudcHOO4"
      },
      "source": [
        "model.compile(optimizer='sgd', loss='mean_squared_error')"
      ],
      "execution_count": 7,
      "outputs": []
    },
    {
      "cell_type": "markdown",
      "metadata": {
        "id": "VKLfNSHpIMIL"
      },
      "source": [
        "## 3. Provide the data"
      ]
    },
    {
      "cell_type": "code",
      "metadata": {
        "id": "Tgt7Rm9KHYZv"
      },
      "source": [
        "xs = np.array([-1.0, 0.0, 1.0, 2.0, 3.0, 4.0], dtype=float)\n",
        "ys = np.array([-2.0, 1.0, 4.0, 7.0, 10.0, 13.0], dtype=float)"
      ],
      "execution_count": 8,
      "outputs": []
    },
    {
      "cell_type": "markdown",
      "metadata": {
        "id": "SaSJi-7kJiSY"
      },
      "source": [
        "## 4. Train the neural network"
      ]
    },
    {
      "cell_type": "code",
      "metadata": {
        "colab": {
          "base_uri": "https://localhost:8080/"
        },
        "id": "nvzS7bjSIOKL",
        "outputId": "a60f4c46-9213-432f-df4d-6a51550d45db"
      },
      "source": [
        "model.fit(xs, ys, epochs=50)"
      ],
      "execution_count": 10,
      "outputs": [
        {
          "output_type": "stream",
          "text": [
            "Epoch 1/50\n",
            "1/1 [==============================] - 0s 1ms/step - loss: 1.6301e-06\n",
            "Epoch 2/50\n",
            "1/1 [==============================] - 0s 920us/step - loss: 1.5965e-06\n",
            "Epoch 3/50\n",
            "1/1 [==============================] - 0s 1ms/step - loss: 1.5639e-06\n",
            "Epoch 4/50\n",
            "1/1 [==============================] - 0s 2ms/step - loss: 1.5317e-06\n",
            "Epoch 5/50\n",
            "1/1 [==============================] - 0s 2ms/step - loss: 1.5003e-06\n",
            "Epoch 6/50\n",
            "1/1 [==============================] - 0s 2ms/step - loss: 1.4695e-06\n",
            "Epoch 7/50\n",
            "1/1 [==============================] - 0s 2ms/step - loss: 1.4394e-06\n",
            "Epoch 8/50\n",
            "1/1 [==============================] - 0s 2ms/step - loss: 1.4096e-06\n",
            "Epoch 9/50\n",
            "1/1 [==============================] - 0s 2ms/step - loss: 1.3807e-06\n",
            "Epoch 10/50\n",
            "1/1 [==============================] - 0s 1ms/step - loss: 1.3522e-06\n",
            "Epoch 11/50\n",
            "1/1 [==============================] - 0s 2ms/step - loss: 1.3244e-06\n",
            "Epoch 12/50\n",
            "1/1 [==============================] - 0s 2ms/step - loss: 1.2974e-06\n",
            "Epoch 13/50\n",
            "1/1 [==============================] - 0s 1ms/step - loss: 1.2707e-06\n",
            "Epoch 14/50\n",
            "1/1 [==============================] - 0s 2ms/step - loss: 1.2446e-06\n",
            "Epoch 15/50\n",
            "1/1 [==============================] - 0s 2ms/step - loss: 1.2189e-06\n",
            "Epoch 16/50\n",
            "1/1 [==============================] - 0s 1ms/step - loss: 1.1939e-06\n",
            "Epoch 17/50\n",
            "1/1 [==============================] - 0s 2ms/step - loss: 1.1694e-06\n",
            "Epoch 18/50\n",
            "1/1 [==============================] - 0s 2ms/step - loss: 1.1454e-06\n",
            "Epoch 19/50\n",
            "1/1 [==============================] - 0s 2ms/step - loss: 1.1219e-06\n",
            "Epoch 20/50\n",
            "1/1 [==============================] - 0s 1ms/step - loss: 1.0989e-06\n",
            "Epoch 21/50\n",
            "1/1 [==============================] - 0s 1ms/step - loss: 1.0764e-06\n",
            "Epoch 22/50\n",
            "1/1 [==============================] - 0s 1ms/step - loss: 1.0542e-06\n",
            "Epoch 23/50\n",
            "1/1 [==============================] - 0s 1ms/step - loss: 1.0326e-06\n",
            "Epoch 24/50\n",
            "1/1 [==============================] - 0s 2ms/step - loss: 1.0114e-06\n",
            "Epoch 25/50\n",
            "1/1 [==============================] - 0s 2ms/step - loss: 9.9059e-07\n",
            "Epoch 26/50\n",
            "1/1 [==============================] - 0s 2ms/step - loss: 9.7035e-07\n",
            "Epoch 27/50\n",
            "1/1 [==============================] - 0s 1ms/step - loss: 9.5042e-07\n",
            "Epoch 28/50\n",
            "1/1 [==============================] - 0s 1ms/step - loss: 9.3087e-07\n",
            "Epoch 29/50\n",
            "1/1 [==============================] - 0s 1ms/step - loss: 9.1172e-07\n",
            "Epoch 30/50\n",
            "1/1 [==============================] - 0s 1ms/step - loss: 8.9269e-07\n",
            "Epoch 31/50\n",
            "1/1 [==============================] - 0s 1ms/step - loss: 8.7459e-07\n",
            "Epoch 32/50\n",
            "1/1 [==============================] - 0s 1ms/step - loss: 8.5668e-07\n",
            "Epoch 33/50\n",
            "1/1 [==============================] - 0s 1ms/step - loss: 8.3922e-07\n",
            "Epoch 34/50\n",
            "1/1 [==============================] - 0s 1ms/step - loss: 8.2197e-07\n",
            "Epoch 35/50\n",
            "1/1 [==============================] - 0s 1ms/step - loss: 8.0493e-07\n",
            "Epoch 36/50\n",
            "1/1 [==============================] - 0s 1ms/step - loss: 7.8845e-07\n",
            "Epoch 37/50\n",
            "1/1 [==============================] - 0s 1ms/step - loss: 7.7223e-07\n",
            "Epoch 38/50\n",
            "1/1 [==============================] - 0s 2ms/step - loss: 7.5632e-07\n",
            "Epoch 39/50\n",
            "1/1 [==============================] - 0s 2ms/step - loss: 7.4093e-07\n",
            "Epoch 40/50\n",
            "1/1 [==============================] - 0s 2ms/step - loss: 7.2559e-07\n",
            "Epoch 41/50\n",
            "1/1 [==============================] - 0s 1ms/step - loss: 7.1058e-07\n",
            "Epoch 42/50\n",
            "1/1 [==============================] - 0s 1ms/step - loss: 6.9588e-07\n",
            "Epoch 43/50\n",
            "1/1 [==============================] - 0s 1ms/step - loss: 6.8170e-07\n",
            "Epoch 44/50\n",
            "1/1 [==============================] - 0s 2ms/step - loss: 6.6759e-07\n",
            "Epoch 45/50\n",
            "1/1 [==============================] - 0s 2ms/step - loss: 6.5384e-07\n",
            "Epoch 46/50\n",
            "1/1 [==============================] - 0s 2ms/step - loss: 6.4052e-07\n",
            "Epoch 47/50\n",
            "1/1 [==============================] - 0s 2ms/step - loss: 6.2721e-07\n",
            "Epoch 48/50\n",
            "1/1 [==============================] - 0s 2ms/step - loss: 6.1426e-07\n",
            "Epoch 49/50\n",
            "1/1 [==============================] - 0s 1ms/step - loss: 6.0169e-07\n",
            "Epoch 50/50\n",
            "1/1 [==============================] - 0s 1ms/step - loss: 5.8922e-07\n"
          ],
          "name": "stdout"
        },
        {
          "output_type": "execute_result",
          "data": {
            "text/plain": [
              "<tensorflow.python.keras.callbacks.History at 0x7faa1afaa668>"
            ]
          },
          "metadata": {
            "tags": []
          },
          "execution_count": 10
        }
      ]
    },
    {
      "cell_type": "markdown",
      "metadata": {
        "id": "IlXXRs79KLVF"
      },
      "source": [
        "## 5. Use the model to make production"
      ]
    },
    {
      "cell_type": "code",
      "metadata": {
        "colab": {
          "base_uri": "https://localhost:8080/"
        },
        "id": "pLBtwuw5JrnJ",
        "outputId": "4c8db033-1cfc-4133-c4d9-e6a743aa66e1"
      },
      "source": [
        "print(model.predict([10.0]))"
      ],
      "execution_count": 11,
      "outputs": [
        {
          "output_type": "stream",
          "text": [
            "[[30.99776]]\n"
          ],
          "name": "stdout"
        }
      ]
    },
    {
      "cell_type": "code",
      "metadata": {
        "id": "n2y7wAIILTkH"
      },
      "source": [
        ""
      ],
      "execution_count": null,
      "outputs": []
    }
  ]
}