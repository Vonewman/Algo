{
  "nbformat": 4,
  "nbformat_minor": 0,
  "metadata": {
    "colab": {
      "name": "Tensor-in-Pytorch.ipynb",
      "provenance": [],
      "authorship_tag": "ABX9TyN2Ij7bHKFtcj589bYdpdYz",
      "include_colab_link": true
    },
    "kernelspec": {
      "name": "python3",
      "display_name": "Python 3"
    }
  },
  "cells": [
    {
      "cell_type": "markdown",
      "metadata": {
        "id": "view-in-github",
        "colab_type": "text"
      },
      "source": [
        "<a href=\"https://colab.research.google.com/github/Vonewman/Algo/blob/master/Tensor_in_Pytorch.ipynb\" target=\"_parent\"><img src=\"https://colab.research.google.com/assets/colab-badge.svg\" alt=\"Open In Colab\"/></a>"
      ]
    },
    {
      "cell_type": "code",
      "metadata": {
        "id": "PvMVOz7V60yj",
        "colab_type": "code",
        "colab": {}
      },
      "source": [
        "import torch"
      ],
      "execution_count": 0,
      "outputs": []
    },
    {
      "cell_type": "code",
      "metadata": {
        "id": "tsO372R2Irmz",
        "colab_type": "code",
        "colab": {}
      },
      "source": [
        "def activation(x):\n",
        "  \"\"\" Sigmoid activation function\n",
        "      \n",
        "      Arguments\n",
        "      -----------\n",
        "      x: torch.Tensor\n",
        "  \"\"\"\n",
        "  return 1/(1 + torch.exp(-x))"
      ],
      "execution_count": 0,
      "outputs": []
    },
    {
      "cell_type": "code",
      "metadata": {
        "id": "UW-qsqQbJuOa",
        "colab_type": "code",
        "colab": {}
      },
      "source": [
        "### Generate some data\n",
        "torch.manual_seed(7)  # Set the random seed so things are predictable\n",
        "\n",
        "#Features are random normal variables\n",
        "features = torch.randn((1, 5))\n"
      ],
      "execution_count": 0,
      "outputs": []
    }
  ]
}